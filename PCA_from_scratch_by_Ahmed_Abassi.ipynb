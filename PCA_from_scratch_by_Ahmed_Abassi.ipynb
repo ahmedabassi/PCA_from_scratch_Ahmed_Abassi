{
  "nbformat": 4,
  "nbformat_minor": 0,
  "metadata": {
    "colab": {
      "name": "PCA from scratch_by Ahmed Abassi.ipynb",
      "provenance": []
    },
    "kernelspec": {
      "name": "python3",
      "display_name": "Python 3"
    },
    "language_info": {
      "name": "python"
    }
  },
  "cells": [
    {
      "cell_type": "markdown",
      "source": [
        "#Loading the Dataset"
      ],
      "metadata": {
        "id": "hg7qlm5_FSKc"
      }
    },
    {
      "cell_type": "markdown",
      "source": [
        "link for the dataset: https://drive.google.com/file/d/1hL-zgI69Agp_YADulY5zCdJ-_uSEBb68/view?usp=sharing"
      ],
      "metadata": {
        "id": "cL8MNJTMFfD3"
      }
    },
    {
      "cell_type": "code",
      "execution_count": 29,
      "metadata": {
        "colab": {
          "base_uri": "https://localhost:8080/"
        },
        "id": "FRHDI9GyFGjj",
        "outputId": "a4a9def7-f101-4ae1-8601-d5c6454d51a0"
      },
      "outputs": [
        {
          "output_type": "stream",
          "name": "stdout",
          "text": [
            "Mounted at /content/drive\n"
          ]
        }
      ],
      "source": [
        "from google.colab import drive\n",
        "drive.mount(\"/content/drive\",force_remount = True)\n",
        "\n",
        "import pandas as pd\n",
        "df = pd.read_csv(\"/content/drive/MyDrive/images.csv\")"
      ]
    },
    {
      "cell_type": "markdown",
      "source": [
        "#EDA"
      ],
      "metadata": {
        "id": "5xgnX_3uHBox"
      }
    },
    {
      "cell_type": "code",
      "source": [
        "df.head(3)"
      ],
      "metadata": {
        "colab": {
          "base_uri": "https://localhost:8080/",
          "height": 236
        },
        "id": "FtjB_qhHFXGz",
        "outputId": "fcccbf6a-476e-4530-f41b-d3d19f46eb8b"
      },
      "execution_count": 30,
      "outputs": [
        {
          "output_type": "execute_result",
          "data": {
            "text/html": [
              "\n",
              "  <div id=\"df-ba332707-3650-430c-85f4-887cf5f1cebd\">\n",
              "    <div class=\"colab-df-container\">\n",
              "      <div>\n",
              "<style scoped>\n",
              "    .dataframe tbody tr th:only-of-type {\n",
              "        vertical-align: middle;\n",
              "    }\n",
              "\n",
              "    .dataframe tbody tr th {\n",
              "        vertical-align: top;\n",
              "    }\n",
              "\n",
              "    .dataframe thead th {\n",
              "        text-align: right;\n",
              "    }\n",
              "</style>\n",
              "<table border=\"1\" class=\"dataframe\">\n",
              "  <thead>\n",
              "    <tr style=\"text-align: right;\">\n",
              "      <th></th>\n",
              "      <th>pixel_0</th>\n",
              "      <th>pixel_1</th>\n",
              "      <th>pixel_2</th>\n",
              "      <th>pixel_3</th>\n",
              "      <th>pixel_4</th>\n",
              "      <th>pixel_5</th>\n",
              "      <th>pixel_6</th>\n",
              "      <th>pixel_7</th>\n",
              "      <th>pixel_8</th>\n",
              "      <th>pixel_9</th>\n",
              "      <th>pixel_10</th>\n",
              "      <th>pixel_11</th>\n",
              "      <th>pixel_12</th>\n",
              "      <th>pixel_13</th>\n",
              "      <th>pixel_14</th>\n",
              "      <th>pixel_15</th>\n",
              "      <th>pixel_16</th>\n",
              "      <th>pixel_17</th>\n",
              "      <th>pixel_18</th>\n",
              "      <th>pixel_19</th>\n",
              "      <th>pixel_20</th>\n",
              "      <th>pixel_21</th>\n",
              "      <th>pixel_22</th>\n",
              "      <th>pixel_23</th>\n",
              "      <th>pixel_24</th>\n",
              "      <th>pixel_25</th>\n",
              "      <th>pixel_26</th>\n",
              "      <th>pixel_27</th>\n",
              "      <th>pixel_28</th>\n",
              "      <th>pixel_29</th>\n",
              "      <th>pixel_30</th>\n",
              "      <th>pixel_31</th>\n",
              "      <th>pixel_32</th>\n",
              "      <th>pixel_33</th>\n",
              "      <th>pixel_34</th>\n",
              "      <th>pixel_35</th>\n",
              "      <th>pixel_36</th>\n",
              "      <th>pixel_37</th>\n",
              "      <th>pixel_38</th>\n",
              "      <th>pixel_39</th>\n",
              "      <th>...</th>\n",
              "      <th>pixel_2264</th>\n",
              "      <th>pixel_2265</th>\n",
              "      <th>pixel_2266</th>\n",
              "      <th>pixel_2267</th>\n",
              "      <th>pixel_2268</th>\n",
              "      <th>pixel_2269</th>\n",
              "      <th>pixel_2270</th>\n",
              "      <th>pixel_2271</th>\n",
              "      <th>pixel_2272</th>\n",
              "      <th>pixel_2273</th>\n",
              "      <th>pixel_2274</th>\n",
              "      <th>pixel_2275</th>\n",
              "      <th>pixel_2276</th>\n",
              "      <th>pixel_2277</th>\n",
              "      <th>pixel_2278</th>\n",
              "      <th>pixel_2279</th>\n",
              "      <th>pixel_2280</th>\n",
              "      <th>pixel_2281</th>\n",
              "      <th>pixel_2282</th>\n",
              "      <th>pixel_2283</th>\n",
              "      <th>pixel_2284</th>\n",
              "      <th>pixel_2285</th>\n",
              "      <th>pixel_2286</th>\n",
              "      <th>pixel_2287</th>\n",
              "      <th>pixel_2288</th>\n",
              "      <th>pixel_2289</th>\n",
              "      <th>pixel_2290</th>\n",
              "      <th>pixel_2291</th>\n",
              "      <th>pixel_2292</th>\n",
              "      <th>pixel_2293</th>\n",
              "      <th>pixel_2294</th>\n",
              "      <th>pixel_2295</th>\n",
              "      <th>pixel_2296</th>\n",
              "      <th>pixel_2297</th>\n",
              "      <th>pixel_2298</th>\n",
              "      <th>pixel_2299</th>\n",
              "      <th>pixel_2300</th>\n",
              "      <th>pixel_2301</th>\n",
              "      <th>pixel_2302</th>\n",
              "      <th>pixel_2303</th>\n",
              "    </tr>\n",
              "  </thead>\n",
              "  <tbody>\n",
              "    <tr>\n",
              "      <th>0</th>\n",
              "      <td>14</td>\n",
              "      <td>15</td>\n",
              "      <td>10</td>\n",
              "      <td>15</td>\n",
              "      <td>14</td>\n",
              "      <td>59</td>\n",
              "      <td>9</td>\n",
              "      <td>69</td>\n",
              "      <td>151</td>\n",
              "      <td>125</td>\n",
              "      <td>132</td>\n",
              "      <td>120</td>\n",
              "      <td>121</td>\n",
              "      <td>89</td>\n",
              "      <td>76</td>\n",
              "      <td>92</td>\n",
              "      <td>120</td>\n",
              "      <td>131</td>\n",
              "      <td>145</td>\n",
              "      <td>148</td>\n",
              "      <td>149</td>\n",
              "      <td>160</td>\n",
              "      <td>164</td>\n",
              "      <td>161</td>\n",
              "      <td>162</td>\n",
              "      <td>151</td>\n",
              "      <td>145</td>\n",
              "      <td>136</td>\n",
              "      <td>131</td>\n",
              "      <td>124</td>\n",
              "      <td>114</td>\n",
              "      <td>103</td>\n",
              "      <td>97</td>\n",
              "      <td>93</td>\n",
              "      <td>83</td>\n",
              "      <td>80</td>\n",
              "      <td>77</td>\n",
              "      <td>77</td>\n",
              "      <td>74</td>\n",
              "      <td>69</td>\n",
              "      <td>...</td>\n",
              "      <td>83</td>\n",
              "      <td>73</td>\n",
              "      <td>88</td>\n",
              "      <td>151</td>\n",
              "      <td>162</td>\n",
              "      <td>177</td>\n",
              "      <td>148</td>\n",
              "      <td>129</td>\n",
              "      <td>95</td>\n",
              "      <td>38</td>\n",
              "      <td>31</td>\n",
              "      <td>20</td>\n",
              "      <td>21</td>\n",
              "      <td>19</td>\n",
              "      <td>26</td>\n",
              "      <td>30</td>\n",
              "      <td>36</td>\n",
              "      <td>39</td>\n",
              "      <td>45</td>\n",
              "      <td>61</td>\n",
              "      <td>69</td>\n",
              "      <td>55</td>\n",
              "      <td>62</td>\n",
              "      <td>73</td>\n",
              "      <td>71</td>\n",
              "      <td>63</td>\n",
              "      <td>58</td>\n",
              "      <td>58</td>\n",
              "      <td>54</td>\n",
              "      <td>48</td>\n",
              "      <td>49</td>\n",
              "      <td>59</td>\n",
              "      <td>55</td>\n",
              "      <td>61</td>\n",
              "      <td>69</td>\n",
              "      <td>53</td>\n",
              "      <td>45</td>\n",
              "      <td>40</td>\n",
              "      <td>35</td>\n",
              "      <td>12</td>\n",
              "    </tr>\n",
              "    <tr>\n",
              "      <th>1</th>\n",
              "      <td>4</td>\n",
              "      <td>2</td>\n",
              "      <td>13</td>\n",
              "      <td>88</td>\n",
              "      <td>113</td>\n",
              "      <td>109</td>\n",
              "      <td>125</td>\n",
              "      <td>128</td>\n",
              "      <td>139</td>\n",
              "      <td>148</td>\n",
              "      <td>150</td>\n",
              "      <td>158</td>\n",
              "      <td>169</td>\n",
              "      <td>174</td>\n",
              "      <td>182</td>\n",
              "      <td>191</td>\n",
              "      <td>196</td>\n",
              "      <td>202</td>\n",
              "      <td>206</td>\n",
              "      <td>207</td>\n",
              "      <td>205</td>\n",
              "      <td>203</td>\n",
              "      <td>204</td>\n",
              "      <td>208</td>\n",
              "      <td>207</td>\n",
              "      <td>210</td>\n",
              "      <td>209</td>\n",
              "      <td>208</td>\n",
              "      <td>205</td>\n",
              "      <td>201</td>\n",
              "      <td>198</td>\n",
              "      <td>193</td>\n",
              "      <td>193</td>\n",
              "      <td>185</td>\n",
              "      <td>180</td>\n",
              "      <td>177</td>\n",
              "      <td>165</td>\n",
              "      <td>157</td>\n",
              "      <td>151</td>\n",
              "      <td>139</td>\n",
              "      <td>...</td>\n",
              "      <td>150</td>\n",
              "      <td>158</td>\n",
              "      <td>170</td>\n",
              "      <td>164</td>\n",
              "      <td>152</td>\n",
              "      <td>160</td>\n",
              "      <td>130</td>\n",
              "      <td>83</td>\n",
              "      <td>61</td>\n",
              "      <td>69</td>\n",
              "      <td>76</td>\n",
              "      <td>78</td>\n",
              "      <td>81</td>\n",
              "      <td>87</td>\n",
              "      <td>90</td>\n",
              "      <td>89</td>\n",
              "      <td>90</td>\n",
              "      <td>85</td>\n",
              "      <td>80</td>\n",
              "      <td>78</td>\n",
              "      <td>79</td>\n",
              "      <td>67</td>\n",
              "      <td>59</td>\n",
              "      <td>76</td>\n",
              "      <td>103</td>\n",
              "      <td>125</td>\n",
              "      <td>129</td>\n",
              "      <td>138</td>\n",
              "      <td>143</td>\n",
              "      <td>134</td>\n",
              "      <td>134</td>\n",
              "      <td>131</td>\n",
              "      <td>110</td>\n",
              "      <td>94</td>\n",
              "      <td>68</td>\n",
              "      <td>44</td>\n",
              "      <td>20</td>\n",
              "      <td>24</td>\n",
              "      <td>31</td>\n",
              "      <td>26</td>\n",
              "    </tr>\n",
              "    <tr>\n",
              "      <th>2</th>\n",
              "      <td>194</td>\n",
              "      <td>73</td>\n",
              "      <td>53</td>\n",
              "      <td>40</td>\n",
              "      <td>35</td>\n",
              "      <td>38</td>\n",
              "      <td>44</td>\n",
              "      <td>34</td>\n",
              "      <td>26</td>\n",
              "      <td>22</td>\n",
              "      <td>23</td>\n",
              "      <td>22</td>\n",
              "      <td>40</td>\n",
              "      <td>38</td>\n",
              "      <td>52</td>\n",
              "      <td>58</td>\n",
              "      <td>23</td>\n",
              "      <td>24</td>\n",
              "      <td>27</td>\n",
              "      <td>18</td>\n",
              "      <td>24</td>\n",
              "      <td>27</td>\n",
              "      <td>22</td>\n",
              "      <td>23</td>\n",
              "      <td>41</td>\n",
              "      <td>45</td>\n",
              "      <td>40</td>\n",
              "      <td>30</td>\n",
              "      <td>25</td>\n",
              "      <td>27</td>\n",
              "      <td>22</td>\n",
              "      <td>28</td>\n",
              "      <td>23</td>\n",
              "      <td>32</td>\n",
              "      <td>26</td>\n",
              "      <td>29</td>\n",
              "      <td>25</td>\n",
              "      <td>32</td>\n",
              "      <td>32</td>\n",
              "      <td>29</td>\n",
              "      <td>...</td>\n",
              "      <td>130</td>\n",
              "      <td>124</td>\n",
              "      <td>119</td>\n",
              "      <td>114</td>\n",
              "      <td>108</td>\n",
              "      <td>108</td>\n",
              "      <td>112</td>\n",
              "      <td>113</td>\n",
              "      <td>108</td>\n",
              "      <td>108</td>\n",
              "      <td>116</td>\n",
              "      <td>120</td>\n",
              "      <td>119</td>\n",
              "      <td>121</td>\n",
              "      <td>123</td>\n",
              "      <td>120</td>\n",
              "      <td>120</td>\n",
              "      <td>120</td>\n",
              "      <td>113</td>\n",
              "      <td>102</td>\n",
              "      <td>71</td>\n",
              "      <td>30</td>\n",
              "      <td>12</td>\n",
              "      <td>11</td>\n",
              "      <td>11</td>\n",
              "      <td>9</td>\n",
              "      <td>12</td>\n",
              "      <td>11</td>\n",
              "      <td>13</td>\n",
              "      <td>14</td>\n",
              "      <td>45</td>\n",
              "      <td>17</td>\n",
              "      <td>13</td>\n",
              "      <td>17</td>\n",
              "      <td>19</td>\n",
              "      <td>15</td>\n",
              "      <td>16</td>\n",
              "      <td>19</td>\n",
              "      <td>19</td>\n",
              "      <td>17</td>\n",
              "    </tr>\n",
              "  </tbody>\n",
              "</table>\n",
              "<p>3 rows × 2304 columns</p>\n",
              "</div>\n",
              "      <button class=\"colab-df-convert\" onclick=\"convertToInteractive('df-ba332707-3650-430c-85f4-887cf5f1cebd')\"\n",
              "              title=\"Convert this dataframe to an interactive table.\"\n",
              "              style=\"display:none;\">\n",
              "        \n",
              "  <svg xmlns=\"http://www.w3.org/2000/svg\" height=\"24px\"viewBox=\"0 0 24 24\"\n",
              "       width=\"24px\">\n",
              "    <path d=\"M0 0h24v24H0V0z\" fill=\"none\"/>\n",
              "    <path d=\"M18.56 5.44l.94 2.06.94-2.06 2.06-.94-2.06-.94-.94-2.06-.94 2.06-2.06.94zm-11 1L8.5 8.5l.94-2.06 2.06-.94-2.06-.94L8.5 2.5l-.94 2.06-2.06.94zm10 10l.94 2.06.94-2.06 2.06-.94-2.06-.94-.94-2.06-.94 2.06-2.06.94z\"/><path d=\"M17.41 7.96l-1.37-1.37c-.4-.4-.92-.59-1.43-.59-.52 0-1.04.2-1.43.59L10.3 9.45l-7.72 7.72c-.78.78-.78 2.05 0 2.83L4 21.41c.39.39.9.59 1.41.59.51 0 1.02-.2 1.41-.59l7.78-7.78 2.81-2.81c.8-.78.8-2.07 0-2.86zM5.41 20L4 18.59l7.72-7.72 1.47 1.35L5.41 20z\"/>\n",
              "  </svg>\n",
              "      </button>\n",
              "      \n",
              "  <style>\n",
              "    .colab-df-container {\n",
              "      display:flex;\n",
              "      flex-wrap:wrap;\n",
              "      gap: 12px;\n",
              "    }\n",
              "\n",
              "    .colab-df-convert {\n",
              "      background-color: #E8F0FE;\n",
              "      border: none;\n",
              "      border-radius: 50%;\n",
              "      cursor: pointer;\n",
              "      display: none;\n",
              "      fill: #1967D2;\n",
              "      height: 32px;\n",
              "      padding: 0 0 0 0;\n",
              "      width: 32px;\n",
              "    }\n",
              "\n",
              "    .colab-df-convert:hover {\n",
              "      background-color: #E2EBFA;\n",
              "      box-shadow: 0px 1px 2px rgba(60, 64, 67, 0.3), 0px 1px 3px 1px rgba(60, 64, 67, 0.15);\n",
              "      fill: #174EA6;\n",
              "    }\n",
              "\n",
              "    [theme=dark] .colab-df-convert {\n",
              "      background-color: #3B4455;\n",
              "      fill: #D2E3FC;\n",
              "    }\n",
              "\n",
              "    [theme=dark] .colab-df-convert:hover {\n",
              "      background-color: #434B5C;\n",
              "      box-shadow: 0px 1px 3px 1px rgba(0, 0, 0, 0.15);\n",
              "      filter: drop-shadow(0px 1px 2px rgba(0, 0, 0, 0.3));\n",
              "      fill: #FFFFFF;\n",
              "    }\n",
              "  </style>\n",
              "\n",
              "      <script>\n",
              "        const buttonEl =\n",
              "          document.querySelector('#df-ba332707-3650-430c-85f4-887cf5f1cebd button.colab-df-convert');\n",
              "        buttonEl.style.display =\n",
              "          google.colab.kernel.accessAllowed ? 'block' : 'none';\n",
              "\n",
              "        async function convertToInteractive(key) {\n",
              "          const element = document.querySelector('#df-ba332707-3650-430c-85f4-887cf5f1cebd');\n",
              "          const dataTable =\n",
              "            await google.colab.kernel.invokeFunction('convertToInteractive',\n",
              "                                                     [key], {});\n",
              "          if (!dataTable) return;\n",
              "\n",
              "          const docLinkHtml = 'Like what you see? Visit the ' +\n",
              "            '<a target=\"_blank\" href=https://colab.research.google.com/notebooks/data_table.ipynb>data table notebook</a>'\n",
              "            + ' to learn more about interactive tables.';\n",
              "          element.innerHTML = '';\n",
              "          dataTable['output_type'] = 'display_data';\n",
              "          await google.colab.output.renderOutput(dataTable, element);\n",
              "          const docLink = document.createElement('div');\n",
              "          docLink.innerHTML = docLinkHtml;\n",
              "          element.appendChild(docLink);\n",
              "        }\n",
              "      </script>\n",
              "    </div>\n",
              "  </div>\n",
              "  "
            ],
            "text/plain": [
              "   pixel_0  pixel_1  pixel_2  ...  pixel_2301  pixel_2302  pixel_2303\n",
              "0       14       15       10  ...          40          35          12\n",
              "1        4        2       13  ...          24          31          26\n",
              "2      194       73       53  ...          19          19          17\n",
              "\n",
              "[3 rows x 2304 columns]"
            ]
          },
          "metadata": {},
          "execution_count": 30
        }
      ]
    },
    {
      "cell_type": "code",
      "source": [
        "df.shape"
      ],
      "metadata": {
        "colab": {
          "base_uri": "https://localhost:8080/"
        },
        "id": "-s_93STbG3g-",
        "outputId": "6a26595a-9823-4924-d63b-ec986d15af9c"
      },
      "execution_count": 31,
      "outputs": [
        {
          "output_type": "execute_result",
          "data": {
            "text/plain": [
              "(4965, 2304)"
            ]
          },
          "metadata": {},
          "execution_count": 31
        }
      ]
    },
    {
      "cell_type": "code",
      "source": [
        "import math as m \n",
        "IMG_dim= int(m.sqrt(2304))\n",
        "#our image is 48x48\n",
        "IMG_dim"
      ],
      "metadata": {
        "colab": {
          "base_uri": "https://localhost:8080/"
        },
        "id": "isDnC23HG7D8",
        "outputId": "53da2fdf-952a-432d-949a-51901de0b0f1"
      },
      "execution_count": 32,
      "outputs": [
        {
          "output_type": "execute_result",
          "data": {
            "text/plain": [
              "48"
            ]
          },
          "metadata": {},
          "execution_count": 32
        }
      ]
    },
    {
      "cell_type": "code",
      "source": [
        "import numpy as np\n",
        "image1=np.asarray(df.iloc[0])\n",
        "image1=image1.reshape(IMG_dim,IMG_dim)"
      ],
      "metadata": {
        "id": "QGviCpWmHRNo"
      },
      "execution_count": 33,
      "outputs": []
    },
    {
      "cell_type": "code",
      "source": [
        "from matplotlib import pyplot as plt\n",
        "plt.imshow(image1)\n",
        "plt.show()"
      ],
      "metadata": {
        "colab": {
          "base_uri": "https://localhost:8080/",
          "height": 267
        },
        "id": "O7tlYeGKHeQs",
        "outputId": "bb158015-406f-4dfe-a13c-ebf7f84499c0"
      },
      "execution_count": 34,
      "outputs": [
        {
          "output_type": "display_data",
          "data": {
            "image/png": "[encoded data removed]",
            "text/plain": [
              "<Figure size 432x288 with 1 Axes>"
            ]
          },
          "metadata": {
            "needs_background": "light"
          }
        }
      ]
    },
    {
      "cell_type": "markdown",
      "source": [
        "#normalizing and standarizing"
      ],
      "metadata": {
        "id": "nMCQHgjNHmNg"
      }
    },
    {
      "cell_type": "code",
      "source": [
        "#calculating means\n",
        "df_center=df.copy()\n",
        "means=[]\n",
        "for col in df.columns:\n",
        "  means.append(sum(df[col])/df.shape[0])\n",
        "len(means)"
      ],
      "metadata": {
        "colab": {
          "base_uri": "https://localhost:8080/"
        },
        "id": "3WU1RliFHhdK",
        "outputId": "c295110e-b406-4521-8353-f2921e2e9f84"
      },
      "execution_count": 35,
      "outputs": [
        {
          "output_type": "execute_result",
          "data": {
            "text/plain": [
              "2304"
            ]
          },
          "metadata": {},
          "execution_count": 35
        }
      ]
    },
    {
      "cell_type": "code",
      "source": [
        "#normalizing (might take some time :p)\n",
        "for i in range(df.shape[1]):\n",
        "  df_center.iloc[:,i] = df_center.iloc[:,i] - means[i]"
      ],
      "metadata": {
        "id": "JL-ZnAWHHrNI"
      },
      "execution_count": 36,
      "outputs": []
    },
    {
      "cell_type": "markdown",
      "source": [
        "Pixel values are from 0 to 255 so there is no need to scale them down (dividing by Standard deviation)"
      ],
      "metadata": {
        "id": "IMtXqRgqI_YH"
      }
    },
    {
      "cell_type": "markdown",
      "source": [
        "#Covariance matrix"
      ],
      "metadata": {
        "id": "o1LqBE_7JJu2"
      }
    },
    {
      "cell_type": "code",
      "source": [
        "cov=np.matmul(np.transpose(df_center.values),df_center.values)"
      ],
      "metadata": {
        "id": "fPVjhPQpHwtS"
      },
      "execution_count": 37,
      "outputs": []
    },
    {
      "cell_type": "markdown",
      "source": [
        "#SVD "
      ],
      "metadata": {
        "id": "JLtGahl6JPVu"
      }
    },
    {
      "cell_type": "code",
      "source": [
        "u, s, vh = np.linalg.svd(cov)"
      ],
      "metadata": {
        "id": "wX8FJl_fJOh4"
      },
      "execution_count": 38,
      "outputs": []
    },
    {
      "cell_type": "markdown",
      "source": [
        "#sorting our eigenvalues and eigenvectors"
      ],
      "metadata": {
        "id": "AGm7YTkIJZQd"
      }
    },
    {
      "cell_type": "code",
      "source": [
        "def bubbleSort(u,s):\n",
        "    n = len(s)\n",
        "    for i in range(n):\n",
        "        for j in range(0, n-i-1):\n",
        "            if s[j] < s[j+1] :\n",
        "                s[j], s[j+1] = s[j+1], s[j]\n",
        "                u[:,j],u[:,j+1] = u[:,j+1],u[:,j]"
      ],
      "metadata": {
        "id": "9KYJapaDJUSI"
      },
      "execution_count": 40,
      "outputs": []
    },
    {
      "cell_type": "markdown",
      "source": [
        "#Applying PCA"
      ],
      "metadata": {
        "id": "-QcEomqiJ3y8"
      }
    },
    {
      "cell_type": "markdown",
      "source": [
        "Now we will apply PCA to obtain the first 10 principal components, report the proportion of\n",
        "variance explained (PVE) for each of the principal components, reshape each of the principal component\n",
        "to a 48x48 matrix and show them (eigenfaces)."
      ],
      "metadata": {
        "id": "4iJaGaEvJ6Rk"
      }
    },
    {
      "cell_type": "code",
      "source": [
        "def get_PC(u,s,k):\n",
        "  return u[:,k] , (s[k]/np.sum(s))*100"
      ],
      "metadata": {
        "id": "Qd1Dhq03JqIs"
      },
      "execution_count": 41,
      "outputs": []
    },
    {
      "cell_type": "code",
      "source": [
        "n=IMG_dim\n",
        "sum=0\n",
        "for i in range(10):\n",
        "  plt.figure()\n",
        "  image,PVE = get_PC(u,s,i)\n",
        "  sum+=PVE\n",
        "  print('PCA {a} has PVE of {b:.2f}%'.format(a=i+1,b=PVE))\n",
        "  image=image.reshape(n,n)\n",
        "  plt.title(\"PVE = {b:.2f}%\".format(b=PVE))\n",
        "  plt.imshow(image)\n",
        "  path =str(i)+\".png\"\n",
        "  #plt.savefig(\"/content/drive/MyDrive/pics/\"+path)\n",
        "  plt.show()"
      ],
      "metadata": {
        "colab": {
          "base_uri": "https://localhost:8080/",
          "height": 1000
        },
        "id": "wCyjVvWJKGYP",
        "outputId": "3cffb78a-e990-48db-e2cb-20318b190a9c"
      },
      "execution_count": 42,
      "outputs": [
        {
          "output_type": "stream",
          "name": "stdout",
          "text": [
            "PCA 1 has PVE of 28.33%\n"
          ]
        },
        {
          "output_type": "display_data",
          "data": {
            "image/png": "[encoded data removed]",
            "text/plain": [
              "<Figure size 432x288 with 1 Axes>"
            ]
          },
          "metadata": {
            "needs_background": "light"
          }
        },
        {
          "output_type": "stream",
          "name": "stdout",
          "text": [
            "PCA 2 has PVE of 11.03%\n"
          ]
        },
        {
          "output_type": "display_data",
          "data": {
            "image/png": "[encoded data removed]",
            "text/plain": [
              "<Figure size 432x288 with 1 Axes>"
            ]
          },
          "metadata": {
            "needs_background": "light"
          }
        },
        {
          "output_type": "stream",
          "name": "stdout",
          "text": [
            "PCA 3 has PVE of 9.77%\n"
          ]
        },
        {
          "output_type": "display_data",
          "data": {
            "image/png": "[encoded data removed]",
            "text/plain": [
              "<Figure size 432x288 with 1 Axes>"
            ]
          },
          "metadata": {
            "needs_background": "light"
          }
        },
        {
          "output_type": "stream",
          "name": "stdout",
          "text": [
            "PCA 4 has PVE of 6.10%\n"
          ]
        },
        {
          "output_type": "display_data",
          "data": {
            "image/png": "[encoded data removed]",
            "text/plain": [
              "<Figure size 432x288 with 1 Axes>"
            ]
          },
          "metadata": {
            "needs_background": "light"
          }
        },
        {
          "output_type": "stream",
          "name": "stdout",
          "text": [
            "PCA 5 has PVE of 3.22%\n"
          ]
        },
        {
          "output_type": "display_data",
          "data": {
            "image/png": "[encoded data removed]",
            "text/plain": [
              "<Figure size 432x288 with 1 Axes>"
            ]
          },
          "metadata": {
            "needs_background": "light"
          }
        },
        {
          "output_type": "stream",
          "name": "stdout",
          "text": [
            "PCA 6 has PVE of 2.86%\n"
          ]
        },
        {
          "output_type": "display_data",
          "data": {
            "image/png": "[encoded data removed]",
            "text/plain": [
              "<Figure size 432x288 with 1 Axes>"
            ]
          },
          "metadata": {
            "needs_background": "light"
          }
        },
        {
          "output_type": "stream",
          "name": "stdout",
          "text": [
            "PCA 7 has PVE of 2.10%\n"
          ]
        },
        {
          "output_type": "display_data",
          "data": {
            "image/png": "[encoded data removed]",
            "text/plain": [
              "<Figure size 432x288 with 1 Axes>"
            ]
          },
          "metadata": {
            "needs_background": "light"
          }
        },
        {
          "output_type": "stream",
          "name": "stdout",
          "text": [
            "PCA 8 has PVE of 2.05%\n"
          ]
        },
        {
          "output_type": "display_data",
          "data": {
            "image/png": "[encoded data removed]",
            "text/plain": [
              "<Figure size 432x288 with 1 Axes>"
            ]
          },
          "metadata": {
            "needs_background": "light"
          }
        },
        {
          "output_type": "stream",
          "name": "stdout",
          "text": [
            "PCA 9 has PVE of 1.84%\n"
          ]
        },
        {
          "output_type": "display_data",
          "data": {
            "image/png": "[encoded data removed]",
            "text/plain": [
              "<Figure size 432x288 with 1 Axes>"
            ]
          },
          "metadata": {
            "needs_background": "light"
          }
        },
        {
          "output_type": "stream",
          "name": "stdout",
          "text": [
            "PCA 10 has PVE of 1.41%\n"
          ]
        },
        {
          "output_type": "display_data",
          "data": {
            "image/png": "[encoded data removed]",
            "text/plain": [
              "<Figure size 432x288 with 1 Axes>"
            ]
          },
          "metadata": {
            "needs_background": "light"
          }
        }
      ]
    },
    {
      "cell_type": "markdown",
      "source": [
        "#Number of PCs used vs PVE"
      ],
      "metadata": {
        "id": "Yp-W0o-lKtYF"
      }
    },
    {
      "cell_type": "markdown",
      "source": [
        "We will now obtain first k principal components and report PVE for k ∈ {1, 10, 50, 100, 500}."
      ],
      "metadata": {
        "id": "UUAmH7jfKvU8"
      }
    },
    {
      "cell_type": "code",
      "source": [
        "def plot():\n",
        "  ks=[1, 10, 50, 100, 500]\n",
        "  PVEs=[]\n",
        "  for k in ks:\n",
        "    sum=0\n",
        "    for i in range(k):\n",
        "      noNeed,PVE = get_PC(u,s,i)\n",
        "      sum+=PVE\n",
        "    PVEs.append(round(sum,2))\n",
        "\n",
        "  plt.plot(ks,PVEs)\n",
        "  plt.xlabel(\"Number of PCs used\")\n",
        "  plt.ylabel(\"PVEs\")\n",
        "  plt.title(\"Number of PCs used vs PVE\")\n",
        "  plt.show()\n",
        "\n",
        "plot()"
      ],
      "metadata": {
        "colab": {
          "base_uri": "https://localhost:8080/",
          "height": 295
        },
        "id": "qOSUckK5KNhq",
        "outputId": "5108f0cb-217e-411a-bea6-b5c3d77a2e6e"
      },
      "execution_count": 43,
      "outputs": [
        {
          "output_type": "display_data",
          "data": {
            "image/png": "[encoded data removed]",
            "text/plain": [
              "<Figure size 432x288 with 1 Axes>"
            ]
          },
          "metadata": {
            "needs_background": "light"
          }
        }
      ]
    },
    {
      "cell_type": "markdown",
      "source": [
        "#Reconstructing Image "
      ],
      "metadata": {
        "id": "itczBrluK-Lk"
      }
    },
    {
      "cell_type": "markdown",
      "source": [
        "We will now reconstruct an image using the principal components we obtained previously. we will use first k principal components to analyze and reconstruct the first image in the\n",
        "dataset where k ∈ [1, 10, 50, 100, 500]. "
      ],
      "metadata": {
        "id": "cSBdfkwKLCMU"
      }
    },
    {
      "cell_type": "code",
      "source": [
        "ks=[1, 10, 50, 100, 500]\n",
        "image1=df.iloc[0,:]\n",
        "def reconstruct(k): \n",
        "  new_image = np.array([0 for i in range(2304)])\n",
        "  for i in range(k):\n",
        "    PCA,PVE = get_PC(u,s,i)\n",
        "    new_image = new_image + np.sum(np.dot(image1,PCA)) * PCA\n",
        "  return new_image"
      ],
      "metadata": {
        "id": "rq5S8MLFK2dj"
      },
      "execution_count": 44,
      "outputs": []
    },
    {
      "cell_type": "code",
      "source": [
        "from matplotlib import pyplot as plt\n",
        "for k in ks:\n",
        "  a = reconstruct(k)\n",
        "  n=len(a)\n",
        "  print(\"using {kk} eigenfaces to reconstruct the image\".format(kk=k))\n",
        "  plt.imshow(a.reshape(int(m.sqrt(n)),int(m.sqrt(n))))\n",
        "  path =str(k)+\".png\"\n",
        "  plt.savefig(\"/content/drive/MyDrive/pics/\"+path)\n",
        "  plt.show()"
      ],
      "metadata": {
        "colab": {
          "base_uri": "https://localhost:8080/",
          "height": 1000
        },
        "id": "kwPuGDuQLWNo",
        "outputId": "1a055998-ed27-4e7d-a5d6-09d9567d24b7"
      },
      "execution_count": 45,
      "outputs": [
        {
          "output_type": "stream",
          "name": "stdout",
          "text": [
            "using 1 eigenfaces to reconstruct the image\n"
          ]
        },
        {
          "output_type": "display_data",
          "data": {
            "image/png": "[encoded data removed]",
            "text/plain": [
              "<Figure size 432x288 with 1 Axes>"
            ]
          },
          "metadata": {
            "needs_background": "light"
          }
        },
        {
          "output_type": "stream",
          "name": "stdout",
          "text": [
            "using 10 eigenfaces to reconstruct the image\n"
          ]
        },
        {
          "output_type": "display_data",
          "data": {
            "image/png": "[encoded data removed]",
            "text/plain": [
              "<Figure size 432x288 with 1 Axes>"
            ]
          },
          "metadata": {
            "needs_background": "light"
          }
        },
        {
          "output_type": "stream",
          "name": "stdout",
          "text": [
            "using 50 eigenfaces to reconstruct the image\n"
          ]
        },
        {
          "output_type": "display_data",
          "data": {
            "image/png": "[encoded data removed]",
            "text/plain": [
              "<Figure size 432x288 with 1 Axes>"
            ]
          },
          "metadata": {
            "needs_background": "light"
          }
        },
        {
          "output_type": "stream",
          "name": "stdout",
          "text": [
            "using 100 eigenfaces to reconstruct the image\n"
          ]
        },
        {
          "output_type": "display_data",
          "data": {
            "image/png": "[encoded data removed]",
            "text/plain": [
              "<Figure size 432x288 with 1 Axes>"
            ]
          },
          "metadata": {
            "needs_background": "light"
          }
        },
        {
          "output_type": "stream",
          "name": "stdout",
          "text": [
            "using 500 eigenfaces to reconstruct the image\n"
          ]
        },
        {
          "output_type": "display_data",
          "data": {
            "image/png": "[encoded data removed]",
            "text/plain": [
              "<Figure size 432x288 with 1 Axes>"
            ]
          },
          "metadata": {
            "needs_background": "light"
          }
        }
      ]
    },
    {
      "cell_type": "markdown",
      "source": [
        "#PCA using scikit learn"
      ],
      "metadata": {
        "id": "NsnLSJsc-QsE"
      }
    },
    {
      "cell_type": "code",
      "source": [
        "from sklearn.preprocessing import StandardScaler\n",
        "x = df.values\n",
        "x = StandardScaler().fit_transform(x) # normalizing the features"
      ],
      "metadata": {
        "id": "2DWarAV1LW60"
      },
      "execution_count": 46,
      "outputs": []
    },
    {
      "cell_type": "code",
      "source": [
        "np.mean(x),np.std(x)"
      ],
      "metadata": {
        "colab": {
          "base_uri": "https://localhost:8080/"
        },
        "id": "Zv2tWd6n-uEK",
        "outputId": "4807b247-244f-4dfe-81f3-35727df50fe7"
      },
      "execution_count": 47,
      "outputs": [
        {
          "output_type": "execute_result",
          "data": {
            "text/plain": [
              "(3.403839193770761e-19, 0.9999999999999996)"
            ]
          },
          "metadata": {},
          "execution_count": 47
        }
      ]
    },
    {
      "cell_type": "code",
      "source": [
        "new_df = pd.DataFrame(x,columns=df.columns)\n",
        "new_df.head(5)"
      ],
      "metadata": {
        "colab": {
          "base_uri": "https://localhost:8080/",
          "height": 299
        },
        "id": "v6JPhRct-vt4",
        "outputId": "c3ac9238-d607-4627-da34-f2eb4c3e5a04"
      },
      "execution_count": 48,
      "outputs": [
        {
          "output_type": "execute_result",
          "data": {
            "text/html": [
              "\n",
              "  <div id=\"df-b90b3f29-1216-41e7-9abf-4c3a98ca0232\">\n",
              "    <div class=\"colab-df-container\">\n",
              "      <div>\n",
              "<style scoped>\n",
              "    .dataframe tbody tr th:only-of-type {\n",
              "        vertical-align: middle;\n",
              "    }\n",
              "\n",
              "    .dataframe tbody tr th {\n",
              "        vertical-align: top;\n",
              "    }\n",
              "\n",
              "    .dataframe thead th {\n",
              "        text-align: right;\n",
              "    }\n",
              "</style>\n",
              "<table border=\"1\" class=\"dataframe\">\n",
              "  <thead>\n",
              "    <tr style=\"text-align: right;\">\n",
              "      <th></th>\n",
              "      <th>pixel_0</th>\n",
              "      <th>pixel_1</th>\n",
              "      <th>pixel_2</th>\n",
              "      <th>pixel_3</th>\n",
              "      <th>pixel_4</th>\n",
              "      <th>pixel_5</th>\n",
              "      <th>pixel_6</th>\n",
              "      <th>pixel_7</th>\n",
              "      <th>pixel_8</th>\n",
              "      <th>pixel_9</th>\n",
              "      <th>pixel_10</th>\n",
              "      <th>pixel_11</th>\n",
              "      <th>pixel_12</th>\n",
              "      <th>pixel_13</th>\n",
              "      <th>pixel_14</th>\n",
              "      <th>pixel_15</th>\n",
              "      <th>pixel_16</th>\n",
              "      <th>pixel_17</th>\n",
              "      <th>pixel_18</th>\n",
              "      <th>pixel_19</th>\n",
              "      <th>pixel_20</th>\n",
              "      <th>pixel_21</th>\n",
              "      <th>pixel_22</th>\n",
              "      <th>pixel_23</th>\n",
              "      <th>pixel_24</th>\n",
              "      <th>pixel_25</th>\n",
              "      <th>pixel_26</th>\n",
              "      <th>pixel_27</th>\n",
              "      <th>pixel_28</th>\n",
              "      <th>pixel_29</th>\n",
              "      <th>pixel_30</th>\n",
              "      <th>pixel_31</th>\n",
              "      <th>pixel_32</th>\n",
              "      <th>pixel_33</th>\n",
              "      <th>pixel_34</th>\n",
              "      <th>pixel_35</th>\n",
              "      <th>pixel_36</th>\n",
              "      <th>pixel_37</th>\n",
              "      <th>pixel_38</th>\n",
              "      <th>pixel_39</th>\n",
              "      <th>...</th>\n",
              "      <th>pixel_2264</th>\n",
              "      <th>pixel_2265</th>\n",
              "      <th>pixel_2266</th>\n",
              "      <th>pixel_2267</th>\n",
              "      <th>pixel_2268</th>\n",
              "      <th>pixel_2269</th>\n",
              "      <th>pixel_2270</th>\n",
              "      <th>pixel_2271</th>\n",
              "      <th>pixel_2272</th>\n",
              "      <th>pixel_2273</th>\n",
              "      <th>pixel_2274</th>\n",
              "      <th>pixel_2275</th>\n",
              "      <th>pixel_2276</th>\n",
              "      <th>pixel_2277</th>\n",
              "      <th>pixel_2278</th>\n",
              "      <th>pixel_2279</th>\n",
              "      <th>pixel_2280</th>\n",
              "      <th>pixel_2281</th>\n",
              "      <th>pixel_2282</th>\n",
              "      <th>pixel_2283</th>\n",
              "      <th>pixel_2284</th>\n",
              "      <th>pixel_2285</th>\n",
              "      <th>pixel_2286</th>\n",
              "      <th>pixel_2287</th>\n",
              "      <th>pixel_2288</th>\n",
              "      <th>pixel_2289</th>\n",
              "      <th>pixel_2290</th>\n",
              "      <th>pixel_2291</th>\n",
              "      <th>pixel_2292</th>\n",
              "      <th>pixel_2293</th>\n",
              "      <th>pixel_2294</th>\n",
              "      <th>pixel_2295</th>\n",
              "      <th>pixel_2296</th>\n",
              "      <th>pixel_2297</th>\n",
              "      <th>pixel_2298</th>\n",
              "      <th>pixel_2299</th>\n",
              "      <th>pixel_2300</th>\n",
              "      <th>pixel_2301</th>\n",
              "      <th>pixel_2302</th>\n",
              "      <th>pixel_2303</th>\n",
              "    </tr>\n",
              "  </thead>\n",
              "  <tbody>\n",
              "    <tr>\n",
              "      <th>0</th>\n",
              "      <td>-1.190015</td>\n",
              "      <td>-1.149463</td>\n",
              "      <td>-1.184672</td>\n",
              "      <td>-1.104766</td>\n",
              "      <td>-1.108970</td>\n",
              "      <td>-0.491779</td>\n",
              "      <td>-1.202832</td>\n",
              "      <td>-0.364491</td>\n",
              "      <td>0.815811</td>\n",
              "      <td>0.415267</td>\n",
              "      <td>0.501215</td>\n",
              "      <td>0.284444</td>\n",
              "      <td>0.253812</td>\n",
              "      <td>-0.265303</td>\n",
              "      <td>-0.503346</td>\n",
              "      <td>-0.310019</td>\n",
              "      <td>0.068740</td>\n",
              "      <td>0.208361</td>\n",
              "      <td>0.393706</td>\n",
              "      <td>0.420116</td>\n",
              "      <td>0.415834</td>\n",
              "      <td>0.569389</td>\n",
              "      <td>0.620789</td>\n",
              "      <td>0.569274</td>\n",
              "      <td>0.586030</td>\n",
              "      <td>0.432355</td>\n",
              "      <td>0.351414</td>\n",
              "      <td>0.227818</td>\n",
              "      <td>0.169249</td>\n",
              "      <td>0.083945</td>\n",
              "      <td>-0.038951</td>\n",
              "      <td>-0.169939</td>\n",
              "      <td>-0.228212</td>\n",
              "      <td>-0.248669</td>\n",
              "      <td>-0.344492</td>\n",
              "      <td>-0.343393</td>\n",
              "      <td>-0.349497</td>\n",
              "      <td>-0.304954</td>\n",
              "      <td>-0.311801</td>\n",
              "      <td>-0.362121</td>\n",
              "      <td>...</td>\n",
              "      <td>-0.314856</td>\n",
              "      <td>-0.453121</td>\n",
              "      <td>-0.235927</td>\n",
              "      <td>0.680615</td>\n",
              "      <td>0.845890</td>\n",
              "      <td>1.073958</td>\n",
              "      <td>0.625277</td>\n",
              "      <td>0.308560</td>\n",
              "      <td>-0.284110</td>\n",
              "      <td>-1.250686</td>\n",
              "      <td>-1.416059</td>\n",
              "      <td>-1.661008</td>\n",
              "      <td>-1.691182</td>\n",
              "      <td>-1.753455</td>\n",
              "      <td>-1.644320</td>\n",
              "      <td>-1.586075</td>\n",
              "      <td>-1.472234</td>\n",
              "      <td>-1.413180</td>\n",
              "      <td>-1.303953</td>\n",
              "      <td>-1.011300</td>\n",
              "      <td>-0.841613</td>\n",
              "      <td>-1.041101</td>\n",
              "      <td>-0.868040</td>\n",
              "      <td>-0.635977</td>\n",
              "      <td>-0.626143</td>\n",
              "      <td>-0.711103</td>\n",
              "      <td>-0.747691</td>\n",
              "      <td>-0.716057</td>\n",
              "      <td>-0.748874</td>\n",
              "      <td>-0.818964</td>\n",
              "      <td>-0.789659</td>\n",
              "      <td>-0.635038</td>\n",
              "      <td>-0.689264</td>\n",
              "      <td>-0.600482</td>\n",
              "      <td>-0.495927</td>\n",
              "      <td>-0.716006</td>\n",
              "      <td>-0.832041</td>\n",
              "      <td>-0.908328</td>\n",
              "      <td>-0.980977</td>\n",
              "      <td>-1.286086</td>\n",
              "    </tr>\n",
              "    <tr>\n",
              "      <th>1</th>\n",
              "      <td>-1.315174</td>\n",
              "      <td>-1.314731</td>\n",
              "      <td>-1.146114</td>\n",
              "      <td>-0.143852</td>\n",
              "      <td>0.228223</td>\n",
              "      <td>0.200877</td>\n",
              "      <td>0.436233</td>\n",
              "      <td>0.485931</td>\n",
              "      <td>0.640505</td>\n",
              "      <td>0.753469</td>\n",
              "      <td>0.769028</td>\n",
              "      <td>0.850464</td>\n",
              "      <td>0.969433</td>\n",
              "      <td>1.005317</td>\n",
              "      <td>1.080887</td>\n",
              "      <td>1.172631</td>\n",
              "      <td>1.202307</td>\n",
              "      <td>1.269783</td>\n",
              "      <td>1.304816</td>\n",
              "      <td>1.304058</td>\n",
              "      <td>1.251983</td>\n",
              "      <td>1.208047</td>\n",
              "      <td>1.213716</td>\n",
              "      <td>1.265559</td>\n",
              "      <td>1.251196</td>\n",
              "      <td>1.306522</td>\n",
              "      <td>1.302420</td>\n",
              "      <td>1.299036</td>\n",
              "      <td>1.275878</td>\n",
              "      <td>1.240143</td>\n",
              "      <td>1.223192</td>\n",
              "      <td>1.176038</td>\n",
              "      <td>1.211829</td>\n",
              "      <td>1.137860</td>\n",
              "      <td>1.112383</td>\n",
              "      <td>1.115406</td>\n",
              "      <td>0.975366</td>\n",
              "      <td>0.892682</td>\n",
              "      <td>0.840387</td>\n",
              "      <td>0.668077</td>\n",
              "      <td>...</td>\n",
              "      <td>0.618784</td>\n",
              "      <td>0.753680</td>\n",
              "      <td>0.950513</td>\n",
              "      <td>0.872743</td>\n",
              "      <td>0.695678</td>\n",
              "      <td>0.813900</td>\n",
              "      <td>0.344758</td>\n",
              "      <td>-0.423260</td>\n",
              "      <td>-0.836008</td>\n",
              "      <td>-0.744087</td>\n",
              "      <td>-0.673334</td>\n",
              "      <td>-0.688472</td>\n",
              "      <td>-0.672954</td>\n",
              "      <td>-0.590216</td>\n",
              "      <td>-0.545592</td>\n",
              "      <td>-0.569179</td>\n",
              "      <td>-0.546550</td>\n",
              "      <td>-0.625668</td>\n",
              "      <td>-0.703026</td>\n",
              "      <td>-0.719442</td>\n",
              "      <td>-0.670814</td>\n",
              "      <td>-0.838366</td>\n",
              "      <td>-0.917636</td>\n",
              "      <td>-0.586749</td>\n",
              "      <td>-0.108042</td>\n",
              "      <td>0.272380</td>\n",
              "      <td>0.355620</td>\n",
              "      <td>0.520660</td>\n",
              "      <td>0.598236</td>\n",
              "      <td>0.459561</td>\n",
              "      <td>0.449280</td>\n",
              "      <td>0.391796</td>\n",
              "      <td>0.079298</td>\n",
              "      <td>-0.147057</td>\n",
              "      <td>-0.509447</td>\n",
              "      <td>-0.836270</td>\n",
              "      <td>-1.162151</td>\n",
              "      <td>-1.117020</td>\n",
              "      <td>-1.032804</td>\n",
              "      <td>-1.106408</td>\n",
              "    </tr>\n",
              "    <tr>\n",
              "      <th>2</th>\n",
              "      <td>1.062844</td>\n",
              "      <td>-0.412115</td>\n",
              "      <td>-0.631999</td>\n",
              "      <td>-0.775686</td>\n",
              "      <td>-0.825323</td>\n",
              "      <td>-0.782695</td>\n",
              "      <td>-0.708287</td>\n",
              "      <td>-0.868980</td>\n",
              "      <td>-1.010293</td>\n",
              "      <td>-1.099292</td>\n",
              "      <td>-1.120541</td>\n",
              "      <td>-1.175291</td>\n",
              "      <td>-0.953798</td>\n",
              "      <td>-1.027675</td>\n",
              "      <td>-0.862040</td>\n",
              "      <td>-0.819212</td>\n",
              "      <td>-1.378050</td>\n",
              "      <td>-1.391246</td>\n",
              "      <td>-1.368769</td>\n",
              "      <td>-1.527552</td>\n",
              "      <td>-1.450570</td>\n",
              "      <td>-1.405997</td>\n",
              "      <td>-1.484104</td>\n",
              "      <td>-1.475138</td>\n",
              "      <td>-1.202526</td>\n",
              "      <td>-1.138182</td>\n",
              "      <td>-1.208831</td>\n",
              "      <td>-1.349253</td>\n",
              "      <td>-1.415923</td>\n",
              "      <td>-1.372564</td>\n",
              "      <td>-1.421299</td>\n",
              "      <td>-1.291586</td>\n",
              "      <td>-1.338244</td>\n",
              "      <td>-1.167999</td>\n",
              "      <td>-1.200593</td>\n",
              "      <td>-1.110390</td>\n",
              "      <td>-1.132371</td>\n",
              "      <td>-0.978624</td>\n",
              "      <td>-0.940267</td>\n",
              "      <td>-0.950806</td>\n",
              "      <td>...</td>\n",
              "      <td>0.340085</td>\n",
              "      <td>0.270960</td>\n",
              "      <td>0.212605</td>\n",
              "      <td>0.133789</td>\n",
              "      <td>0.034747</td>\n",
              "      <td>0.018431</td>\n",
              "      <td>0.064240</td>\n",
              "      <td>0.054014</td>\n",
              "      <td>-0.073090</td>\n",
              "      <td>-0.106754</td>\n",
              "      <td>-0.013134</td>\n",
              "      <td>0.015778</td>\n",
              "      <td>-0.028076</td>\n",
              "      <td>-0.008596</td>\n",
              "      <td>0.020940</td>\n",
              "      <td>-0.034877</td>\n",
              "      <td>-0.032282</td>\n",
              "      <td>-0.026475</td>\n",
              "      <td>-0.136438</td>\n",
              "      <td>-0.307408</td>\n",
              "      <td>-0.807453</td>\n",
              "      <td>-1.463464</td>\n",
              "      <td>-1.694648</td>\n",
              "      <td>-1.653347</td>\n",
              "      <td>-1.597583</td>\n",
              "      <td>-1.567684</td>\n",
              "      <td>-1.462512</td>\n",
              "      <td>-1.442628</td>\n",
              "      <td>-1.369453</td>\n",
              "      <td>-1.324428</td>\n",
              "      <td>-0.847962</td>\n",
              "      <td>-1.234025</td>\n",
              "      <td>-1.276166</td>\n",
              "      <td>-1.205049</td>\n",
              "      <td>-1.171925</td>\n",
              "      <td>-1.223785</td>\n",
              "      <td>-1.214969</td>\n",
              "      <td>-1.182236</td>\n",
              "      <td>-1.188284</td>\n",
              "      <td>-1.221915</td>\n",
              "    </tr>\n",
              "    <tr>\n",
              "      <th>3</th>\n",
              "      <td>1.213035</td>\n",
              "      <td>1.215135</td>\n",
              "      <td>1.321638</td>\n",
              "      <td>1.356755</td>\n",
              "      <td>1.335797</td>\n",
              "      <td>1.433806</td>\n",
              "      <td>1.566623</td>\n",
              "      <td>1.595805</td>\n",
              "      <td>1.692341</td>\n",
              "      <td>1.091671</td>\n",
              "      <td>-0.941999</td>\n",
              "      <td>-1.488092</td>\n",
              "      <td>-1.445787</td>\n",
              "      <td>-1.595717</td>\n",
              "      <td>-1.549538</td>\n",
              "      <td>-1.672860</td>\n",
              "      <td>-1.706188</td>\n",
              "      <td>-1.660339</td>\n",
              "      <td>-1.772047</td>\n",
              "      <td>-1.782247</td>\n",
              "      <td>-1.793988</td>\n",
              "      <td>-1.777310</td>\n",
              "      <td>-1.795391</td>\n",
              "      <td>-1.801059</td>\n",
              "      <td>-1.690314</td>\n",
              "      <td>-1.760471</td>\n",
              "      <td>-1.743772</td>\n",
              "      <td>-1.780715</td>\n",
              "      <td>-1.670149</td>\n",
              "      <td>-1.672875</td>\n",
              "      <td>-1.631657</td>\n",
              "      <td>-1.321497</td>\n",
              "      <td>-1.503249</td>\n",
              "      <td>-1.514631</td>\n",
              "      <td>-1.365806</td>\n",
              "      <td>-1.456291</td>\n",
              "      <td>-0.138724</td>\n",
              "      <td>1.341795</td>\n",
              "      <td>1.034912</td>\n",
              "      <td>1.036005</td>\n",
              "      <td>...</td>\n",
              "      <td>-1.332106</td>\n",
              "      <td>-1.390167</td>\n",
              "      <td>-0.322740</td>\n",
              "      <td>1.050092</td>\n",
              "      <td>0.785805</td>\n",
              "      <td>0.125513</td>\n",
              "      <td>-0.792901</td>\n",
              "      <td>-1.632354</td>\n",
              "      <td>-1.680088</td>\n",
              "      <td>-1.593865</td>\n",
              "      <td>-1.713149</td>\n",
              "      <td>-1.744848</td>\n",
              "      <td>-1.385714</td>\n",
              "      <td>-0.881026</td>\n",
              "      <td>-1.026286</td>\n",
              "      <td>-1.017302</td>\n",
              "      <td>-0.820827</td>\n",
              "      <td>-0.403111</td>\n",
              "      <td>0.155440</td>\n",
              "      <td>0.860023</td>\n",
              "      <td>1.259211</td>\n",
              "      <td>1.273449</td>\n",
              "      <td>1.297673</td>\n",
              "      <td>1.267492</td>\n",
              "      <td>1.300545</td>\n",
              "      <td>2.318659</td>\n",
              "      <td>0.153606</td>\n",
              "      <td>-1.009777</td>\n",
              "      <td>-0.309928</td>\n",
              "      <td>0.043297</td>\n",
              "      <td>0.041159</td>\n",
              "      <td>0.006733</td>\n",
              "      <td>-0.102362</td>\n",
              "      <td>0.045305</td>\n",
              "      <td>0.044870</td>\n",
              "      <td>0.059024</td>\n",
              "      <td>-0.066187</td>\n",
              "      <td>-0.217036</td>\n",
              "      <td>-0.242443</td>\n",
              "      <td>-0.400531</td>\n",
              "    </tr>\n",
              "    <tr>\n",
              "      <th>4</th>\n",
              "      <td>1.400773</td>\n",
              "      <td>1.456680</td>\n",
              "      <td>1.463019</td>\n",
              "      <td>1.488387</td>\n",
              "      <td>1.538402</td>\n",
              "      <td>1.516924</td>\n",
              "      <td>1.453584</td>\n",
              "      <td>1.408424</td>\n",
              "      <td>1.502426</td>\n",
              "      <td>1.385760</td>\n",
              "      <td>1.334410</td>\n",
              "      <td>1.252636</td>\n",
              "      <td>1.163247</td>\n",
              "      <td>1.080059</td>\n",
              "      <td>0.916486</td>\n",
              "      <td>0.783248</td>\n",
              "      <td>0.695185</td>\n",
              "      <td>0.671799</td>\n",
              "      <td>0.647622</td>\n",
              "      <td>0.629865</td>\n",
              "      <td>0.595009</td>\n",
              "      <td>0.509978</td>\n",
              "      <td>0.428087</td>\n",
              "      <td>0.376684</td>\n",
              "      <td>0.290401</td>\n",
              "      <td>0.358273</td>\n",
              "      <td>0.440571</td>\n",
              "      <td>0.302208</td>\n",
              "      <td>0.094477</td>\n",
              "      <td>0.068929</td>\n",
              "      <td>0.126329</td>\n",
              "      <td>0.203943</td>\n",
              "      <td>0.401806</td>\n",
              "      <td>0.625447</td>\n",
              "      <td>0.646784</td>\n",
              "      <td>0.709349</td>\n",
              "      <td>0.674261</td>\n",
              "      <td>0.608243</td>\n",
              "      <td>0.615934</td>\n",
              "      <td>0.432603</td>\n",
              "      <td>...</td>\n",
              "      <td>0.242541</td>\n",
              "      <td>0.256762</td>\n",
              "      <td>0.241543</td>\n",
              "      <td>0.266800</td>\n",
              "      <td>0.305128</td>\n",
              "      <td>0.278488</td>\n",
              "      <td>0.220083</td>\n",
              "      <td>0.181287</td>\n",
              "      <td>0.137930</td>\n",
              "      <td>0.073007</td>\n",
              "      <td>0.019876</td>\n",
              "      <td>-0.051293</td>\n",
              "      <td>-0.062017</td>\n",
              "      <td>-0.077022</td>\n",
              "      <td>-0.150736</td>\n",
              "      <td>-0.138290</td>\n",
              "      <td>-0.117993</td>\n",
              "      <td>-0.043594</td>\n",
              "      <td>-0.050592</td>\n",
              "      <td>-0.084222</td>\n",
              "      <td>-0.687894</td>\n",
              "      <td>-1.412780</td>\n",
              "      <td>-1.347473</td>\n",
              "      <td>-1.029798</td>\n",
              "      <td>-0.593762</td>\n",
              "      <td>0.097891</td>\n",
              "      <td>0.122526</td>\n",
              "      <td>0.196022</td>\n",
              "      <td>-0.355336</td>\n",
              "      <td>-0.670298</td>\n",
              "      <td>-0.833387</td>\n",
              "      <td>-0.777654</td>\n",
              "      <td>-0.773108</td>\n",
              "      <td>-0.847805</td>\n",
              "      <td>-0.847446</td>\n",
              "      <td>-0.635831</td>\n",
              "      <td>-0.567954</td>\n",
              "      <td>-0.582247</td>\n",
              "      <td>-0.527491</td>\n",
              "      <td>-0.567375</td>\n",
              "    </tr>\n",
              "  </tbody>\n",
              "</table>\n",
              "<p>5 rows × 2304 columns</p>\n",
              "</div>\n",
              "      <button class=\"colab-df-convert\" onclick=\"convertToInteractive('df-b90b3f29-1216-41e7-9abf-4c3a98ca0232')\"\n",
              "              title=\"Convert this dataframe to an interactive table.\"\n",
              "              style=\"display:none;\">\n",
              "        \n",
              "  <svg xmlns=\"http://www.w3.org/2000/svg\" height=\"24px\"viewBox=\"0 0 24 24\"\n",
              "       width=\"24px\">\n",
              "    <path d=\"M0 0h24v24H0V0z\" fill=\"none\"/>\n",
              "    <path d=\"M18.56 5.44l.94 2.06.94-2.06 2.06-.94-2.06-.94-.94-2.06-.94 2.06-2.06.94zm-11 1L8.5 8.5l.94-2.06 2.06-.94-2.06-.94L8.5 2.5l-.94 2.06-2.06.94zm10 10l.94 2.06.94-2.06 2.06-.94-2.06-.94-.94-2.06-.94 2.06-2.06.94z\"/><path d=\"M17.41 7.96l-1.37-1.37c-.4-.4-.92-.59-1.43-.59-.52 0-1.04.2-1.43.59L10.3 9.45l-7.72 7.72c-.78.78-.78 2.05 0 2.83L4 21.41c.39.39.9.59 1.41.59.51 0 1.02-.2 1.41-.59l7.78-7.78 2.81-2.81c.8-.78.8-2.07 0-2.86zM5.41 20L4 18.59l7.72-7.72 1.47 1.35L5.41 20z\"/>\n",
              "  </svg>\n",
              "      </button>\n",
              "      \n",
              "  <style>\n",
              "    .colab-df-container {\n",
              "      display:flex;\n",
              "      flex-wrap:wrap;\n",
              "      gap: 12px;\n",
              "    }\n",
              "\n",
              "    .colab-df-convert {\n",
              "      background-color: #E8F0FE;\n",
              "      border: none;\n",
              "      border-radius: 50%;\n",
              "      cursor: pointer;\n",
              "      display: none;\n",
              "      fill: #1967D2;\n",
              "      height: 32px;\n",
              "      padding: 0 0 0 0;\n",
              "      width: 32px;\n",
              "    }\n",
              "\n",
              "    .colab-df-convert:hover {\n",
              "      background-color: #E2EBFA;\n",
              "      box-shadow: 0px 1px 2px rgba(60, 64, 67, 0.3), 0px 1px 3px 1px rgba(60, 64, 67, 0.15);\n",
              "      fill: #174EA6;\n",
              "    }\n",
              "\n",
              "    [theme=dark] .colab-df-convert {\n",
              "      background-color: #3B4455;\n",
              "      fill: #D2E3FC;\n",
              "    }\n",
              "\n",
              "    [theme=dark] .colab-df-convert:hover {\n",
              "      background-color: #434B5C;\n",
              "      box-shadow: 0px 1px 3px 1px rgba(0, 0, 0, 0.15);\n",
              "      filter: drop-shadow(0px 1px 2px rgba(0, 0, 0, 0.3));\n",
              "      fill: #FFFFFF;\n",
              "    }\n",
              "  </style>\n",
              "\n",
              "      <script>\n",
              "        const buttonEl =\n",
              "          document.querySelector('#df-b90b3f29-1216-41e7-9abf-4c3a98ca0232 button.colab-df-convert');\n",
              "        buttonEl.style.display =\n",
              "          google.colab.kernel.accessAllowed ? 'block' : 'none';\n",
              "\n",
              "        async function convertToInteractive(key) {\n",
              "          const element = document.querySelector('#df-b90b3f29-1216-41e7-9abf-4c3a98ca0232');\n",
              "          const dataTable =\n",
              "            await google.colab.kernel.invokeFunction('convertToInteractive',\n",
              "                                                     [key], {});\n",
              "          if (!dataTable) return;\n",
              "\n",
              "          const docLinkHtml = 'Like what you see? Visit the ' +\n",
              "            '<a target=\"_blank\" href=https://colab.research.google.com/notebooks/data_table.ipynb>data table notebook</a>'\n",
              "            + ' to learn more about interactive tables.';\n",
              "          element.innerHTML = '';\n",
              "          dataTable['output_type'] = 'display_data';\n",
              "          await google.colab.output.renderOutput(dataTable, element);\n",
              "          const docLink = document.createElement('div');\n",
              "          docLink.innerHTML = docLinkHtml;\n",
              "          element.appendChild(docLink);\n",
              "        }\n",
              "      </script>\n",
              "    </div>\n",
              "  </div>\n",
              "  "
            ],
            "text/plain": [
              "    pixel_0   pixel_1   pixel_2  ...  pixel_2301  pixel_2302  pixel_2303\n",
              "0 -1.190015 -1.149463 -1.184672  ...   -0.908328   -0.980977   -1.286086\n",
              "1 -1.315174 -1.314731 -1.146114  ...   -1.117020   -1.032804   -1.106408\n",
              "2  1.062844 -0.412115 -0.631999  ...   -1.182236   -1.188284   -1.221915\n",
              "3  1.213035  1.215135  1.321638  ...   -0.217036   -0.242443   -0.400531\n",
              "4  1.400773  1.456680  1.463019  ...   -0.582247   -0.527491   -0.567375\n",
              "\n",
              "[5 rows x 2304 columns]"
            ]
          },
          "metadata": {},
          "execution_count": 48
        }
      ]
    },
    {
      "cell_type": "code",
      "source": [
        "from sklearn.decomposition import PCA\n",
        "pca_img = PCA(n_components=10)\n",
        "principalComponents = pca_img.fit_transform(x)"
      ],
      "metadata": {
        "id": "OCY1wTN6APR4"
      },
      "execution_count": 49,
      "outputs": []
    },
    {
      "cell_type": "code",
      "source": [
        "principalComponents.shape"
      ],
      "metadata": {
        "colab": {
          "base_uri": "https://localhost:8080/"
        },
        "id": "LSE1r1gcAWur",
        "outputId": "fee3672d-9ace-4103-999a-7a9a8246fdf1"
      },
      "execution_count": 50,
      "outputs": [
        {
          "output_type": "execute_result",
          "data": {
            "text/plain": [
              "(4965, 10)"
            ]
          },
          "metadata": {},
          "execution_count": 50
        }
      ]
    },
    {
      "cell_type": "code",
      "source": [
        "principalComponents"
      ],
      "metadata": {
        "id": "W6f-N0ZBG70V"
      },
      "execution_count": null,
      "outputs": []
    },
    {
      "cell_type": "code",
      "source": [
        "df.shape"
      ],
      "metadata": {
        "colab": {
          "base_uri": "https://localhost:8080/"
        },
        "id": "vAY249T8AddQ",
        "outputId": "352a6a1e-1588-423a-8d6c-4d4c4c072d4f"
      },
      "execution_count": 27,
      "outputs": [
        {
          "output_type": "execute_result",
          "data": {
            "text/plain": [
              "(4965, 2304)"
            ]
          },
          "metadata": {},
          "execution_count": 27
        }
      ]
    },
    {
      "cell_type": "code",
      "source": [
        "for i in range(len(pca_img.explained_variance_ratio_)):\n",
        "  print('Explained variance for principal component {i}: {e}'.format(i=i+1,e=pca_img.explained_variance_ratio_[i]))"
      ],
      "metadata": {
        "colab": {
          "base_uri": "https://localhost:8080/"
        },
        "id": "j5iJueMTCUV2",
        "outputId": "02948753-122d-4bde-868b-898f11f83c03"
      },
      "execution_count": 53,
      "outputs": [
        {
          "output_type": "stream",
          "name": "stdout",
          "text": [
            "Explained variance for principal component 1: 0.29189808654988536\n",
            "Explained variance for principal component 2: 0.10243198805377692\n",
            "Explained variance for principal component 3: 0.09558134987656457\n",
            "Explained variance for principal component 4: 0.06020683079216669\n",
            "Explained variance for principal component 5: 0.02810432453631806\n",
            "Explained variance for principal component 6: 0.025456633658669778\n",
            "Explained variance for principal component 7: 0.02086235463513124\n",
            "Explained variance for principal component 8: 0.01856706742141942\n",
            "Explained variance for principal component 9: 0.01727191789743208\n",
            "Explained variance for principal component 10: 0.014708898888304643\n"
          ]
        }
      ]
    }
  ]
}